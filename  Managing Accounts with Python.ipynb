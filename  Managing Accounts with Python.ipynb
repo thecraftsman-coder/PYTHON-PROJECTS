{
 "cells": [
  {
   "cell_type": "code",
   "execution_count": null,
   "id": "f6da56c8-05c7-4248-8bff-d1f00c1da771",
   "metadata": {},
   "outputs": [],
   "source": [
    "# bank_account.py\n",
    "\n",
    "class Account:\n",
    "    def __init__(self, account_number: str, account_holder: str, account_balance: float = 0.0):\n",
    "        self.account_number = account_number\n",
    "        self.account_balance = account_balance\n",
    "        self.account_holder = account_holder\n",
    "\n",
    "    def deposit(self, amount: float):\n",
    "        \"\"\"Add the amount to the account balance.\"\"\"\n",
    "        self.account_balance += amount\n",
    "        print(f\"Deposited ${amount}. New balance: ${self.account_balance}\")\n",
    "\n",
    "    def withdraw(self, amount: float):\n",
    "        \"\"\"Subtract the amount from the account balance if sufficient funds exist.\"\"\"\n",
    "        if amount <= self.account_balance:\n",
    "            self.account_balance -= amount\n",
    "            print(f\"Withdrew ${amount}. New balance: ${self.account_balance}\")\n",
    "        else:\n",
    "            print(f\"Withdrawal of ${amount} failed. Insufficient funds.\")\n",
    "\n",
    "    def check_balance(self) -> float:\n",
    "        \"\"\"Return the current account balance.\"\"\"\n",
    "        return self.account_balance\n",
    "\n",
    "# Create an instance of the Account class\n",
    "my_account = Account(account_number=\"123456789\", account_holder=\"John Doe\")\n",
    "\n",
    "# Test the methods of the class\n",
    "my_account.deposit(1000)  # Deposit $1000\n",
    "my_account.withdraw(500)   # Withdraw $500\n",
    "print(f\"Current balance: ${my_account.check_balance()}\")  # Check balance\n",
    "\n",
    "# Create another account and test transactions\n",
    "another_account = Account(account_number=\"987654321\", account_holder=\"Jane Smith\")\n",
    "another_account.deposit(2000)  # Deposit $2000\n",
    "another_account.withdraw(2500)  # Try to withdraw $2500\n",
    "another_account.withdraw(1500)  # Withdraw $1500\n",
    "print(f\"Current balance: ${another_account.check_balance()}\")  # Check balance\n"
   ]
  },
  {
   "cell_type": "code",
   "execution_count": 1,
   "id": "be008175-0384-46ff-a65d-d9c278d4549c",
   "metadata": {},
   "outputs": [
    {
     "name": "stdout",
     "output_type": "stream",
     "text": [
      "Current Working Directory: C:\\Users\\hp\n"
     ]
    }
   ],
   "source": [
    "import os\n",
    "\n",
    "# Get the current working directory\n",
    "current_directory = os.getcwd()\n",
    "print(\"Current Working Directory:\", current_directory)\n"
   ]
  },
  {
   "cell_type": "code",
   "execution_count": null,
   "id": "7224aa1f-0a43-4d75-886e-ed925f172279",
   "metadata": {},
   "outputs": [],
   "source": []
  }
 ],
 "metadata": {
  "kernelspec": {
   "display_name": "Python 3 (ipykernel)",
   "language": "python",
   "name": "python3"
  },
  "language_info": {
   "codemirror_mode": {
    "name": "ipython",
    "version": 3
   },
   "file_extension": ".py",
   "mimetype": "text/x-python",
   "name": "python",
   "nbconvert_exporter": "python",
   "pygments_lexer": "ipython3",
   "version": "3.11.7"
  }
 },
 "nbformat": 4,
 "nbformat_minor": 5
}
